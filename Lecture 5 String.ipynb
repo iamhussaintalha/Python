{
 "cells": [
  {
   "cell_type": "markdown",
   "metadata": {},
   "source": [
    "# Contents\n",
    "## 1. A string is a sequence\n",
    "## 2. String slices\n",
    "## 3. Strings are immutable\n",
    "## 4. Looping and counting\n",
    "## 5. The in operator\n",
    "## 6. String comparison\n",
    "## 7. string methods\n",
    "## 8. Parsing strings"
   ]
  },
  {
   "cell_type": "markdown",
   "metadata": {},
   "source": [
    "# 1. A string is a sequence"
   ]
  },
  {
   "cell_type": "raw",
   "metadata": {},
   "source": [
    "A string is a sequence of characters. \n",
    "You can access the characters one at a time with the bracket operator:"
   ]
  },
  {
   "cell_type": "code",
   "execution_count": 14,
   "metadata": {},
   "outputs": [],
   "source": [
    "fruit = 'banana'"
   ]
  },
  {
   "cell_type": "code",
   "execution_count": 15,
   "metadata": {},
   "outputs": [
    {
     "data": {
      "text/plain": [
       "'b'"
      ]
     },
     "execution_count": 15,
     "metadata": {},
     "output_type": "execute_result"
    }
   ],
   "source": [
    "fruit[0] # accessing the first element\n"
   ]
  },
  {
   "cell_type": "code",
   "execution_count": 16,
   "metadata": {},
   "outputs": [
    {
     "data": {
      "text/plain": [
       "'a'"
      ]
     },
     "execution_count": 16,
     "metadata": {},
     "output_type": "execute_result"
    }
   ],
   "source": [
    "# access the forth element\n",
    "fruit='banana'\n",
    "fruit[3]"
   ]
  },
  {
   "cell_type": "code",
   "execution_count": 17,
   "metadata": {},
   "outputs": [],
   "source": [
    "letter = fruit[1]"
   ]
  },
  {
   "cell_type": "code",
   "execution_count": 18,
   "metadata": {},
   "outputs": [
    {
     "data": {
      "text/plain": [
       "'a'"
      ]
     },
     "execution_count": 18,
     "metadata": {},
     "output_type": "execute_result"
    }
   ],
   "source": [
    "letter"
   ]
  },
  {
   "cell_type": "code",
   "execution_count": 19,
   "metadata": {},
   "outputs": [
    {
     "data": {
      "text/plain": [
       "6"
      ]
     },
     "execution_count": 19,
     "metadata": {},
     "output_type": "execute_result"
    }
   ],
   "source": [
    "len(fruit) # lenght of string"
   ]
  },
  {
   "cell_type": "code",
   "execution_count": 20,
   "metadata": {},
   "outputs": [
    {
     "name": "stdout",
     "output_type": "stream",
     "text": [
      "a\n"
     ]
    }
   ],
   "source": [
    "# print the last element of string using len function \n",
    "string=\"Talha\"\n",
    "last_element=string[len(string)-1]\n",
    "print(last_element)"
   ]
  },
  {
   "cell_type": "code",
   "execution_count": 21,
   "metadata": {},
   "outputs": [
    {
     "data": {
      "text/plain": [
       "'a'"
      ]
     },
     "execution_count": 21,
     "metadata": {},
     "output_type": "execute_result"
    }
   ],
   "source": [
    "# Alternatively, you can use negative indices\n",
    "fruit[-1]"
   ]
  },
  {
   "cell_type": "code",
   "execution_count": 22,
   "metadata": {},
   "outputs": [
    {
     "name": "stdout",
     "output_type": "stream",
     "text": [
      "h\n"
     ]
    }
   ],
   "source": [
    "string=\"Talha\"\n",
    "last_element=string[len(string)-2]\n",
    "print(last_element)"
   ]
  },
  {
   "cell_type": "code",
   "execution_count": 23,
   "metadata": {},
   "outputs": [
    {
     "name": "stdout",
     "output_type": "stream",
     "text": [
      "l\n"
     ]
    }
   ],
   "source": [
    "# print the third last element of string \n",
    "string=\"Talha\"\n",
    "last_element=string[len(string)-3]\n",
    "print(last_element)"
   ]
  },
  {
   "cell_type": "code",
   "execution_count": 24,
   "metadata": {},
   "outputs": [
    {
     "name": "stdout",
     "output_type": "stream",
     "text": [
      "b\n",
      "a\n",
      "n\n",
      "a\n",
      "n\n",
      "a\n"
     ]
    }
   ],
   "source": [
    "index = 0\n",
    "while index < len(fruit):\n",
    "    letter = fruit[index]\n",
    "    print (letter)\n",
    "    index = index + 1"
   ]
  },
  {
   "cell_type": "code",
   "execution_count": 25,
   "metadata": {},
   "outputs": [
    {
     "name": "stdout",
     "output_type": "stream",
     "text": [
      "a\n",
      "h\n",
      "l\n",
      "a\n",
      "T\n"
     ]
    }
   ],
   "source": [
    "# # Traversal through a string with a loop (while) in reverse order\n",
    "\n",
    "string=\"Talha\"\n",
    "index=len(string)-1\n",
    "while index>=0:\n",
    "    print(string[index])\n",
    "    index -=1"
   ]
  },
  {
   "cell_type": "code",
   "execution_count": 26,
   "metadata": {},
   "outputs": [
    {
     "name": "stdout",
     "output_type": "stream",
     "text": [
      "b\n",
      "a\n",
      "n\n",
      "a\n",
      "n\n",
      "a\n"
     ]
    }
   ],
   "source": [
    "for char in fruit:\n",
    "    print (char)"
   ]
  },
  {
   "cell_type": "code",
   "execution_count": 27,
   "metadata": {},
   "outputs": [
    {
     "name": "stdout",
     "output_type": "stream",
     "text": [
      "a\n",
      "h\n",
      "l\n",
      "a\n",
      "T\n"
     ]
    }
   ],
   "source": [
    "# Traversal through a string with a loop (for) in reverse order\n",
    "string=\"Talha\"\n",
    "for char in reversed(string):\n",
    "    print(char)"
   ]
  },
  {
   "cell_type": "markdown",
   "metadata": {},
   "source": [
    "# 2. String slices"
   ]
  },
  {
   "cell_type": "raw",
   "metadata": {},
   "source": [
    "A segment of a string is called a slice. Selecting a slice is similar to selecting a\n",
    "character:"
   ]
  },
  {
   "cell_type": "raw",
   "metadata": {},
   "source": [
    "The operator [n:m] returns the part of the string from the “n-eth” character to the “m-eth” character, including the first but excluding the last."
   ]
  },
  {
   "cell_type": "code",
   "execution_count": 28,
   "metadata": {},
   "outputs": [],
   "source": [
    "s = 'Hello Pakistan'"
   ]
  },
  {
   "cell_type": "code",
   "execution_count": 29,
   "metadata": {},
   "outputs": [
    {
     "name": "stdout",
     "output_type": "stream",
     "text": [
      "ello P\n"
     ]
    }
   ],
   "source": [
    "print (s[1:7])"
   ]
  },
  {
   "cell_type": "raw",
   "metadata": {},
   "source": [
    "If you omit the first index (before the colon), the slice starts at the beginning of the string. If you omit the second index, the slice goes to the end of the string:"
   ]
  },
  {
   "cell_type": "code",
   "execution_count": 30,
   "metadata": {},
   "outputs": [
    {
     "data": {
      "text/plain": [
       "'Hello '"
      ]
     },
     "execution_count": 30,
     "metadata": {},
     "output_type": "execute_result"
    }
   ],
   "source": [
    "s[:6]"
   ]
  },
  {
   "cell_type": "code",
   "execution_count": 31,
   "metadata": {},
   "outputs": [
    {
     "data": {
      "text/plain": [
       "'o Pakistan'"
      ]
     },
     "execution_count": 31,
     "metadata": {},
     "output_type": "execute_result"
    }
   ],
   "source": [
    "s[4:]"
   ]
  },
  {
   "cell_type": "raw",
   "metadata": {},
   "source": [
    "If the first index is greater than or equal to the second the result is an empty string,\n",
    "represented by two quotation marks:"
   ]
  },
  {
   "cell_type": "code",
   "execution_count": 32,
   "metadata": {},
   "outputs": [
    {
     "data": {
      "text/plain": [
       "''"
      ]
     },
     "execution_count": 32,
     "metadata": {},
     "output_type": "execute_result"
    }
   ],
   "source": [
    "s[4:2]"
   ]
  },
  {
   "cell_type": "code",
   "execution_count": 33,
   "metadata": {},
   "outputs": [
    {
     "data": {
      "text/plain": [
       "'Talha'"
      ]
     },
     "execution_count": 33,
     "metadata": {},
     "output_type": "execute_result"
    }
   ],
   "source": [
    "# what is the output of s[:]\n",
    "s=\"Talha\"\n",
    "s[:]"
   ]
  },
  {
   "cell_type": "code",
   "execution_count": 34,
   "metadata": {},
   "outputs": [
    {
     "data": {
      "text/plain": [
       "'code cre'"
      ]
     },
     "execution_count": 34,
     "metadata": {},
     "output_type": "execute_result"
    }
   ],
   "source": [
    "# print the string excluding the last character\n",
    "# string is \"Code Crew\"\n",
    "s=\"code crew\"\n",
    "s[:8]"
   ]
  },
  {
   "cell_type": "code",
   "execution_count": 1,
   "metadata": {},
   "outputs": [
    {
     "name": "stdout",
     "output_type": "stream",
     "text": [
      "Enter a string : talha\n",
      "result : (<built-in method join of str object at 0x00007FFFF550E6E0>, ['Talha'])\n"
     ]
    }
   ],
   "source": [
    "# your program should accepts a string from user and display the string with first character of each word with capital\n",
    "input_string=input(\"Enter a string : \")\n",
    "words=input_string.split()\n",
    "capitalized_words=[word.capitalize() for word in words]\n",
    "result_string=''.join,(capitalized_words)\n",
    "print(\"result :\",result_string)"
   ]
  },
  {
   "cell_type": "code",
   "execution_count": 2,
   "metadata": {},
   "outputs": [
    {
     "name": "stdout",
     "output_type": "stream",
     "text": [
      "Enter a string :talha\n",
      "ta\n"
     ]
    }
   ],
   "source": [
    "# write a program which accepts a string and display first two characters of each string in a separate line\n",
    "def display_first_two_characters(input_string):\n",
    "    if len(input_string)>=2:\n",
    "        print(input_string[:2])\n",
    "input_string=input(\"Enter a string :\")\n",
    "words=input_string.split()\n",
    "for word in words :\n",
    "    display_first_two_characters(word)"
   ]
  },
  {
   "cell_type": "markdown",
   "metadata": {},
   "source": [
    "Slicing\n",
    "-------\n",
    "\n",
    "Slicing is used to extract a subsequence out of your sequence, and has a special notation in Python:\n",
    "\n",
    "    var[lower:upper:step]\n",
    "\n",
    "The element which has index equal to the lower bound is included in the slice, but the element which has index equal to the upper bound is excluded, so mathematically, the i.e., slice is `[lower, upper)`.  If you think of the indices as being between the elements, then this mentally works very nicely, as we'll see.\n",
    "\n",
    "The `step` argument is optional, and indicates the strides between elements in the subsequence, so a step of 2 takes every second element."
   ]
  },
  {
   "cell_type": "code",
   "execution_count": 1,
   "metadata": {},
   "outputs": [
    {
     "name": "stdout",
     "output_type": "stream",
     "text": [
      "a\n",
      "h\n",
      " \n",
      "u\n",
      "s\n",
      "a\n",
      "n\n"
     ]
    }
   ],
   "source": [
    "# print characters on odd index using loop (for or while)\n",
    "text=\"Talha hussaain\"\n",
    "for i in range(1,len(text),2):\n",
    "    print(text[i])"
   ]
  },
  {
   "cell_type": "code",
   "execution_count": 2,
   "metadata": {},
   "outputs": [
    {
     "name": "stdout",
     "output_type": "stream",
     "text": [
      "ah usi\n"
     ]
    }
   ],
   "source": [
    "# print characters on odd index using Slice operator\n",
    "text=\"Talha hussain\"\n",
    "result=text[1::2]\n",
    "print(result)"
   ]
  },
  {
   "cell_type": "markdown",
   "metadata": {},
   "source": [
    "# 3. Strings are immutable"
   ]
  },
  {
   "cell_type": "raw",
   "metadata": {},
   "source": [
    "It is tempting to use the [] operator on the left side of an assignment, with the intention of changing a character in a string. For example:"
   ]
  },
  {
   "cell_type": "code",
   "execution_count": null,
   "metadata": {},
   "outputs": [],
   "source": [
    "greeting = 'Hello, world!'\n",
    "greeting[0] = 'J'"
   ]
  },
  {
   "cell_type": "raw",
   "metadata": {},
   "source": [
    "The “object” in this case is the string and the “item” is the character you tried to assign."
   ]
  },
  {
   "cell_type": "raw",
   "metadata": {},
   "source": [
    "The reason for the error is that strings are immutable, which means you can’t change an existing string. The best you can do is create a new string that is a variation on the original:"
   ]
  },
  {
   "cell_type": "code",
   "execution_count": null,
   "metadata": {},
   "outputs": [],
   "source": [
    "greeting = 'Hello, world!'\n",
    "new_greeting = 'J' + greeting[1:]\n",
    "print(new_greeting)"
   ]
  },
  {
   "cell_type": "code",
   "execution_count": null,
   "metadata": {},
   "outputs": [],
   "source": [
    "# replace the exclaimation mark in above string with a question mark\n",
    "greeting = 'Hello, world!'\n",
    "new_greeting = greeting[:-1]+'?'\n",
    "print(new_greeting)"
   ]
  },
  {
   "cell_type": "markdown",
   "metadata": {},
   "source": [
    "# 4. Looping and counting"
   ]
  },
  {
   "cell_type": "raw",
   "metadata": {},
   "source": [
    "Write a program that counts the number of times the letter 'a' appears in a string \"banana\""
   ]
  },
  {
   "cell_type": "code",
   "execution_count": 5,
   "metadata": {},
   "outputs": [
    {
     "name": "stdout",
     "output_type": "stream",
     "text": [
      "3\n"
     ]
    }
   ],
   "source": [
    "word = 'banana'\n",
    "count = 0\n",
    "for letter in word:\n",
    "    if letter == 'a':\n",
    "        count = count + 1\n",
    "print (count)"
   ]
  },
  {
   "cell_type": "code",
   "execution_count": 6,
   "metadata": {},
   "outputs": [
    {
     "name": "stdout",
     "output_type": "stream",
     "text": [
      "2\n"
     ]
    }
   ],
   "source": [
    "# Write a program that counts the number of times the letter 'n' appears in a string \"banana\"\n",
    "word = 'banana'\n",
    "count = 0\n",
    "for letter in word:\n",
    "    if letter == 'n':\n",
    "        count = count + 1\n",
    "print (count)"
   ]
  },
  {
   "cell_type": "code",
   "execution_count": 7,
   "metadata": {},
   "outputs": [],
   "source": [
    "# Write a program that take character or sequence of characters from user and check if that \n",
    "# input is in the word then print message \"string found\" else \"string not found\" using \n",
    "# for or while loop\n",
    "word = \"banana\""
   ]
  },
  {
   "cell_type": "code",
   "execution_count": null,
   "metadata": {},
   "outputs": [
    {
     "name": "stdout",
     "output_type": "stream",
     "text": [
      "Enter a string : talha\n"
     ]
    }
   ],
   "source": [
    "word = \"banana\"\n",
    "user_input=input(\"Enter a string : \")\n",
    "found=False\n",
    "i=0\n",
    "while i<len(word):\n",
    "    if user_input==word[i:i+len(user_input)]:\n",
    "        found=True\n",
    "        break\n",
    "        i+=1\n",
    "if found:\n",
    "    print (\"String found\")\n",
    "else:\n",
    "    print(\"string not found\")"
   ]
  },
  {
   "cell_type": "markdown",
   "metadata": {},
   "source": [
    "# 5. The in operator"
   ]
  },
  {
   "cell_type": "raw",
   "metadata": {},
   "source": [
    "The word in is a boolean operator that takes two strings and returns True if the first appears as a substring in the second:"
   ]
  },
  {
   "cell_type": "code",
   "execution_count": null,
   "metadata": {},
   "outputs": [],
   "source": [
    "'a' in 'banana'"
   ]
  },
  {
   "cell_type": "code",
   "execution_count": null,
   "metadata": {},
   "outputs": [],
   "source": [
    "'anan' in 'banana'"
   ]
  },
  {
   "cell_type": "code",
   "execution_count": null,
   "metadata": {},
   "outputs": [],
   "source": [
    "'anab' in 'banana'"
   ]
  },
  {
   "cell_type": "code",
   "execution_count": null,
   "metadata": {},
   "outputs": [],
   "source": [
    "# Write a program that take character or sequence of characters from user and check if that \n",
    "# input is in the word then print message \"string found\" else \"string not found\" using \n",
    "# in operator\n",
    "word = 'banana'\n"
   ]
  },
  {
   "cell_type": "code",
   "execution_count": null,
   "metadata": {},
   "outputs": [],
   "source": [
    "# define a function that accepts a string and calculate the number of upper case letters and lower case letters\n",
    "def count_upper_loer(string)\n",
    "    upper_count=0\n",
    "    lower_count=0\n",
    "    \n",
    "    for char in string:\n",
    "        if char.isupper():\n",
    "            upper_count+=1\n",
    "        elif char.islower():\n",
    "            lower_count+=1\n",
    "    return upper_count,lower_count\n",
    "input_string=\"Hello world!\"\n",
    "upper,lower=count_upper_lower(lower_string)\n",
    "print(\"uppercase letters:\",upper)\n",
    "print(\"lovercase letters:\",lower)"
   ]
  },
  {
   "cell_type": "markdown",
   "metadata": {},
   "source": [
    "# 6. String comparison"
   ]
  },
  {
   "cell_type": "code",
   "execution_count": null,
   "metadata": {},
   "outputs": [],
   "source": [
    "# The comparison operators work on strings. To see if two strings are equal:\n",
    "if word == 'banana':\n",
    "    print ('All right, bananas.')\n"
   ]
  },
  {
   "cell_type": "code",
   "execution_count": null,
   "metadata": {},
   "outputs": [],
   "source": [
    "# Other comparison operations are useful for putting words in alphabetical order:\n",
    "word = 'Pineapple'\n",
    "#word = word.lower()\n",
    "if word < 'banana':\n",
    "    print ('Your word,' + word + ', comes before banana.')\n",
    "elif word > 'banana':\n",
    "    print ('Your word,' + word + ', comes after banana.')\n",
    "else:\n",
    "    print ('All right, bananas.')"
   ]
  },
  {
   "cell_type": "markdown",
   "metadata": {},
   "source": [
    "# 7. string methods"
   ]
  },
  {
   "cell_type": "code",
   "execution_count": null,
   "metadata": {},
   "outputs": [],
   "source": [
    "stuff = 'Hello world'\n",
    "type(stuff)"
   ]
  },
  {
   "cell_type": "code",
   "execution_count": null,
   "metadata": {},
   "outputs": [],
   "source": [
    "dir(stuff)"
   ]
  },
  {
   "cell_type": "code",
   "execution_count": null,
   "metadata": {},
   "outputs": [],
   "source": [
    "help(str.capitalize)"
   ]
  },
  {
   "cell_type": "code",
   "execution_count": null,
   "metadata": {},
   "outputs": [],
   "source": [
    "stuff.upper()"
   ]
  },
  {
   "cell_type": "code",
   "execution_count": null,
   "metadata": {},
   "outputs": [],
   "source": [
    "stuff.find('d')"
   ]
  },
  {
   "cell_type": "code",
   "execution_count": null,
   "metadata": {},
   "outputs": [],
   "source": [
    "stuff.find('lo')"
   ]
  },
  {
   "cell_type": "code",
   "execution_count": null,
   "metadata": {},
   "outputs": [],
   "source": [
    "stuff.find('l',4)"
   ]
  },
  {
   "cell_type": "raw",
   "metadata": {},
   "source": [
    "One common task is to remove white space (spaces, tabs, or newlines) from the beginning and end of a string using the strip method:"
   ]
  },
  {
   "cell_type": "code",
   "execution_count": null,
   "metadata": {},
   "outputs": [],
   "source": [
    "line = ' Here we go '"
   ]
  },
  {
   "cell_type": "code",
   "execution_count": null,
   "metadata": {},
   "outputs": [],
   "source": [
    "line.strip()"
   ]
  },
  {
   "cell_type": "code",
   "execution_count": null,
   "metadata": {},
   "outputs": [],
   "source": [
    "# Some methods such as startswith return boolean values.\n",
    "line = 'Please have a nice day'\n",
    "line.startswith('Please')"
   ]
  },
  {
   "cell_type": "code",
   "execution_count": null,
   "metadata": {},
   "outputs": [],
   "source": [
    "line.startswith('please')"
   ]
  },
  {
   "cell_type": "code",
   "execution_count": null,
   "metadata": {},
   "outputs": [],
   "source": [
    "line.lower().startswith('please')"
   ]
  },
  {
   "cell_type": "markdown",
   "metadata": {},
   "source": [
    "# 8. Parsing strings"
   ]
  },
  {
   "cell_type": "raw",
   "metadata": {},
   "source": [
    "extract uct.ac.za\n",
    "From stephen.marquard@uct.ac.za Sat Jan 5 09:14:16 2008"
   ]
  },
  {
   "cell_type": "code",
   "execution_count": null,
   "metadata": {},
   "outputs": [],
   "source": [
    "data = 'From stephen.marquard@uct.ac.za Sat Jan 5 09:14:16 2008'"
   ]
  },
  {
   "cell_type": "code",
   "execution_count": null,
   "metadata": {},
   "outputs": [],
   "source": [
    "atpos = data.find('@')\n",
    "print (atpos)"
   ]
  },
  {
   "cell_type": "code",
   "execution_count": null,
   "metadata": {},
   "outputs": [],
   "source": [
    "sppos = data.find(' ',atpos)\n",
    "print (sppos)"
   ]
  },
  {
   "cell_type": "code",
   "execution_count": null,
   "metadata": {},
   "outputs": [],
   "source": [
    "host = data[atpos+1:sppos]\n",
    "print (host)"
   ]
  },
  {
   "cell_type": "code",
   "execution_count": null,
   "metadata": {},
   "outputs": [],
   "source": [
    "# write a program to extract stephen.marquard in name variable and uct.ac.za \n",
    "# in domain varibale using above parsing methods\n",
    "data = 'From stephen.marquard@uct.ac.za Sat Jan 5 09:14:16 2008'\n",
    "atpos=data.find('@')\n",
    "\n",
    "name=data[5:atpos]\n",
    "domain=data[atpos+1:-24]\n",
    "print(\" Name : \",name)\n",
    "print(\"Domain : \",domain)"
   ]
  }
 ],
 "metadata": {
  "kernelspec": {
   "display_name": "Python 3 (ipykernel)",
   "language": "python",
   "name": "python3"
  },
  "language_info": {
   "codemirror_mode": {
    "name": "ipython",
    "version": 3
   },
   "file_extension": ".py",
   "mimetype": "text/x-python",
   "name": "python",
   "nbconvert_exporter": "python",
   "pygments_lexer": "ipython3",
   "version": "3.11.5"
  }
 },
 "nbformat": 4,
 "nbformat_minor": 2
}
