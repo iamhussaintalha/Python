{
 "cells": [
  {
   "cell_type": "code",
   "execution_count": null,
   "metadata": {
    "collapsed": true
   },
   "outputs": [],
   "source": [
    "# Contents\n",
    "## 1. Dictionaries\n",
    "## 2. Dictionary as a set of counters\n",
    "## 3. Looping and dictionaries\n"
   ]
  },
  {
   "cell_type": "markdown",
   "metadata": {},
   "source": [
    "# 1. Dictionaries"
   ]
  },
  {
   "cell_type": "markdown",
   "metadata": {},
   "source": [
    "1. A dictionary is like a list, but more general. \n",
    "2. In a list, the positions (a.k.a. indices) have to be integers; in a dictionary the indices can be (almost) any type.\n",
    "3. You can think of a dictionary as a mapping between a set of indices (which are called keys) and a set of values. \n",
    "4. Each key maps to a value. \n",
    "5. The association of a key and a value is called a key-value pair or sometimes an item.\n",
    "6. As an example, we’ll build a dictionary that maps from English to Spanish words,so the keys and the values are all strings.\n",
    "7. The function dict creates a new dictionary with no items. \n",
    "8. Because dict is the name of a built-in function, you should avoid using it as a variable name."
   ]
  },
  {
   "cell_type": "code",
   "execution_count": 1,
   "metadata": {},
   "outputs": [
    {
     "name": "stdout",
     "output_type": "stream",
     "text": [
      "{}\n"
     ]
    }
   ],
   "source": [
    "eng2sp = dict()\n",
    "print(eng2sp)"
   ]
  },
  {
   "cell_type": "raw",
   "metadata": {},
   "source": [
    "The squiggly-brackets, {}, represent an empty dictionary. \n",
    "To add items to the dictionary, you can use square brackets:"
   ]
  },
  {
   "cell_type": "code",
   "execution_count": 2,
   "metadata": {},
   "outputs": [],
   "source": [
    "# This line creates an item that maps from the key ’one’ to the value 'uno'.\n",
    "eng2sp['one'] = 'uno'"
   ]
  },
  {
   "cell_type": "code",
   "execution_count": 3,
   "metadata": {},
   "outputs": [
    {
     "name": "stdout",
     "output_type": "stream",
     "text": [
      "{'one': 'uno'}\n"
     ]
    }
   ],
   "source": [
    "print(eng2sp)"
   ]
  },
  {
   "cell_type": "code",
   "execution_count": 4,
   "metadata": {},
   "outputs": [],
   "source": [
    "# This output format is also an input format. For example, you can create a new dictionary\n",
    "# with three items:\n",
    "eng2sp = {'one': 'uno', 'two': 'dos', 'three': 'tres'}"
   ]
  },
  {
   "cell_type": "code",
   "execution_count": 5,
   "metadata": {},
   "outputs": [
    {
     "name": "stdout",
     "output_type": "stream",
     "text": [
      "{'one': 'uno', 'two': 'dos', 'three': 'tres'}\n"
     ]
    }
   ],
   "source": [
    "print(eng2sp)"
   ]
  },
  {
   "cell_type": "code",
   "execution_count": 6,
   "metadata": {},
   "outputs": [
    {
     "name": "stdout",
     "output_type": "stream",
     "text": [
      "dos\n"
     ]
    }
   ],
   "source": [
    "# you use the keys to look up the corresponding values:\n",
    "print (eng2sp['two'])"
   ]
  },
  {
   "cell_type": "code",
   "execution_count": 7,
   "metadata": {},
   "outputs": [
    {
     "ename": "KeyError",
     "evalue": "'four'",
     "output_type": "error",
     "traceback": [
      "\u001b[1;31m---------------------------------------------------------------------------\u001b[0m",
      "\u001b[1;31mKeyError\u001b[0m                                  Traceback (most recent call last)",
      "Cell \u001b[1;32mIn[7], line 2\u001b[0m\n\u001b[0;32m      1\u001b[0m \u001b[38;5;66;03m# If the key isn’t in the dictionary, you get an exception:\u001b[39;00m\n\u001b[1;32m----> 2\u001b[0m \u001b[38;5;28mprint\u001b[39m (eng2sp[\u001b[38;5;124m'\u001b[39m\u001b[38;5;124mfour\u001b[39m\u001b[38;5;124m'\u001b[39m])\n",
      "\u001b[1;31mKeyError\u001b[0m: 'four'"
     ]
    }
   ],
   "source": [
    "# If the key isn’t in the dictionary, you get an exception:\n",
    "print (eng2sp['four'])"
   ]
  },
  {
   "cell_type": "code",
   "execution_count": null,
   "metadata": {},
   "outputs": [],
   "source": [
    "# The len function works on dictionaries; it returns the number of key-value pairs:\n",
    "len(eng2sp)"
   ]
  },
  {
   "cell_type": "code",
   "execution_count": null,
   "metadata": {},
   "outputs": [],
   "source": [
    "# The in operator works on dictionaries; it tells you whether something appears as\n",
    "# a key in the dictionary (appearing as a value is not good enough).\n",
    "'one' in eng2sp"
   ]
  },
  {
   "cell_type": "code",
   "execution_count": 8,
   "metadata": {},
   "outputs": [
    {
     "data": {
      "text/plain": [
       "False"
      ]
     },
     "execution_count": 8,
     "metadata": {},
     "output_type": "execute_result"
    }
   ],
   "source": [
    "'uno' in eng2sp"
   ]
  },
  {
   "cell_type": "code",
   "execution_count": 9,
   "metadata": {},
   "outputs": [
    {
     "data": {
      "text/plain": [
       "True"
      ]
     },
     "execution_count": 9,
     "metadata": {},
     "output_type": "execute_result"
    }
   ],
   "source": [
    "# To see whether something appears as a value in a dictionary, you can use the\n",
    "# method values, which returns the values as a list, and then use the in operator:\n",
    "vals = eng2sp.values()\n",
    "'uno' in vals"
   ]
  },
  {
   "cell_type": "markdown",
   "metadata": {},
   "source": [
    "# 2. Dictionary as a set of counters"
   ]
  },
  {
   "cell_type": "code",
   "execution_count": 10,
   "metadata": {},
   "outputs": [
    {
     "name": "stdout",
     "output_type": "stream",
     "text": [
      "{'b': 1, 'r': 2, 'o': 2, 'n': 1, 't': 1, 's': 2, 'a': 1, 'u': 2}\n"
     ]
    }
   ],
   "source": [
    "word = 'brontosaurus'\n",
    "d = dict()\n",
    "for c in word:\n",
    "    if c not in d:\n",
    "        d[c] = 1\n",
    "    else:\n",
    "        d[c] = d[c] + 1\n",
    "print (d)"
   ]
  },
  {
   "cell_type": "code",
   "execution_count": 11,
   "metadata": {},
   "outputs": [
    {
     "name": "stdout",
     "output_type": "stream",
     "text": [
      "100\n",
      "0\n"
     ]
    }
   ],
   "source": [
    "# Dictionaries have a method called get that takes a key and a default value. If the\n",
    "# key appears in the dictionary, get returns the corresponding value; otherwise it\n",
    "# returns the default value. For example:\n",
    "counts = { 'chuck' : 1 , 'annie' : 42, 'jan': 100}\n",
    "print (counts.get('jan', 0))\n",
    "print (counts.get('tim', 0))"
   ]
  },
  {
   "cell_type": "code",
   "execution_count": 5,
   "metadata": {},
   "outputs": [],
   "source": [
    "# implement above code using get() method (no need to use if and else statement)"
   ]
  },
  {
   "cell_type": "code",
   "execution_count": 6,
   "metadata": {},
   "outputs": [],
   "source": [
    "# count no of words in a file"
   ]
  },
  {
   "cell_type": "code",
   "execution_count": 7,
   "metadata": {},
   "outputs": [
    {
     "name": "stdout",
     "output_type": "stream",
     "text": [
      "'tony'appears2times.\n",
      "'blair'appears1times.\n",
      "'became'appears1times.\n",
      "'\"obsessed\"'appears1times.\n",
      "'with'appears3times.\n",
      "'creating'appears1times.\n",
      "'of'appears2times.\n",
      "'bringing'appears1times.\n",
      "'the'appears10times.\n",
      "'uk'appears3times.\n",
      "'together'appears1times.\n",
      "'their'appears1times.\n",
      "'former'appears1times.\n",
      "'prime'appears1times.\n",
      "'minister'appears1times.\n",
      "'has'appears1times.\n",
      "'revealed'appears1times.\n",
      "'rebel'appears1times.\n",
      "'tories'appears1times.\n",
      "'and'appears1times.\n",
      "'labour'appears4times.\n",
      "'mps'appears2times.\n",
      "'are'appears1times.\n",
      "'planning'appears1times.\n",
      "'a'appears4times.\n",
      "'bill'appears1times.\n",
      "'to'appears3times.\n",
      "'stop'appears1times.\n",
      "'leaving'appears1times.\n",
      "'eu'appears3times.\n",
      "'on'appears2times.\n",
      "'31'appears2times.\n",
      "'october'appears2times.\n",
      "'without'appears1times.\n",
      "'deal'appears1times.\n",
      "'mr'appears1times.\n",
      "'johnson'appears2times.\n",
      "'said'appears4times.\n",
      "'he'appears2times.\n",
      "'did'appears1times.\n",
      "'not'appears2times.\n",
      "'want'appears1times.\n",
      "'an'appears2times.\n",
      "'election'appears4times.\n",
      "'but'appears2times.\n",
      "'progress'appears1times.\n",
      "'would'appears2times.\n",
      "'be'appears1times.\n",
      "'\"impossible\"'appears1times.\n",
      "'if'appears1times.\n",
      "'win'appears1times.\n",
      "'jeremy'appears1times.\n",
      "'corbyn'appears1times.\n",
      "'party'appears1times.\n",
      "'was'appears1times.\n",
      "'ready'appears1times.\n",
      "'for'appears1times.\n",
      "'general'appears2times.\n",
      "'shadow'appears1times.\n",
      "'northern'appears1times.\n",
      "'ireland'appears1times.\n",
      "'secretary'appears1times.\n",
      "'lloyd'appears1times.\n",
      "'later'appears1times.\n",
      "'vote'appears1times.\n",
      "'against'appears1times.\n",
      "'any'appears1times.\n",
      "'government'appears1times.\n",
      "'plans'appears1times.\n",
      "'hold'appears1times.\n",
      "'before'appears1times.\n",
      "'is'appears1times.\n",
      "'due'appears1times.\n",
      "'leave'appears1times.\n",
      "'\"will'appears1times.\n",
      "'have'appears1times.\n",
      "'boris'appears1times.\n",
      "'dictate'appears1times.\n",
      "'terms'appears1times.\n",
      "'that'appears1times.\n",
      "'crashes'appears1times.\n",
      "'this'appears1times.\n",
      "'country'appears1times.\n",
      "'out'appears1times.\n",
      "'no'appears1times.\n",
      "'deal\"'appears1times.\n"
     ]
    }
   ],
   "source": [
    "word_count={}\n",
    "with open('test.txt','r')as file:\n",
    "    for line in file:\n",
    "        words=line.split()\n",
    "        \n",
    "        for word in words:\n",
    "            word=word.strip('.,?!').lower()\n",
    "            if word:\n",
    "                word_count[word]=word_count.get(word,0)+1\n",
    "for word,count in word_count.items():\n",
    "    print(f\"'{word}'appears{count}times.\")"
   ]
  },
  {
   "cell_type": "markdown",
   "metadata": {},
   "source": [
    "# 3. Looping and dictionaries"
   ]
  },
  {
   "cell_type": "code",
   "execution_count": 8,
   "metadata": {},
   "outputs": [
    {
     "name": "stdout",
     "output_type": "stream",
     "text": [
      "chuck 1\n",
      "annie 42\n",
      "jan 100\n"
     ]
    }
   ],
   "source": [
    "# If you use a dictionary as the sequence in a for statement, it traverses the keys of\n",
    "# the dictionary. This loop prints each key and the corresponding value:\n",
    "counts = { 'chuck' : 1 , 'annie' : 42, 'jan': 100}\n",
    "for key in counts:\n",
    "    print (key, counts[key])"
   ]
  },
  {
   "cell_type": "markdown",
   "metadata": {},
   "source": [
    "If you want to print the keys in alphabetical order, you first make a list of the keys\n",
    "in the dictionary using the keys method available in dictionary objects, and then\n",
    "sort that list and loop through the sorted list, looking up each key printing out\n",
    "key/value pairs in sorted order as follows as follows:"
   ]
  },
  {
   "cell_type": "code",
   "execution_count": 9,
   "metadata": {},
   "outputs": [
    {
     "name": "stdout",
     "output_type": "stream",
     "text": [
      "['chuck', 'annie', 'jan']\n",
      "annie 42\n",
      "chuck 1\n",
      "jan 100\n"
     ]
    }
   ],
   "source": [
    "counts = { 'chuck' : 1 , 'annie' : 42, 'jan': 100}\n",
    "lst = list(counts.keys())\n",
    "print (lst)\n",
    "lst.sort()\n",
    "for key in lst:\n",
    "    print (key, counts[key])"
   ]
  },
  {
   "cell_type": "code",
   "execution_count": 10,
   "metadata": {},
   "outputs": [
    {
     "name": "stdout",
     "output_type": "stream",
     "text": [
      "value 200 exit.\n"
     ]
    }
   ],
   "source": [
    "# Write a Python program to check if value 200 exists in the following dictionary.\n",
    "# sample_dict = {'a': 100, 'b': 200, 'c': 300}\n",
    "sample_dict={'a':100,'b':200,'c':300}\n",
    "value_to_check=200\n",
    "if value_to_check in sample_dict.values():\n",
    "    print(\"value 200 exit.\")\n",
    "else:\n",
    "    print(\"value 200 does not exit .\")"
   ]
  },
  {
   "cell_type": "code",
   "execution_count": 11,
   "metadata": {},
   "outputs": [
    {
     "name": "stdout",
     "output_type": "stream",
     "text": [
      "Red corrosponds to 1\n",
      "Green corrosponds to 2\n",
      "Blue corrosponds to 3\n"
     ]
    }
   ],
   "source": [
    "# Write a Python program to iterate over dictionaries using for loops.\n",
    "# d = {'Red': 1, 'Green': 2, 'Blue': 3}\n",
    "# SAMPLE OUTPUT:\n",
    "# Red corresponds to  1\n",
    "# Green corresponds to  2\n",
    "# Blue corresponds to  3\n",
    "d={'red':1,'green':2,'blue':3}\n",
    "for color,value in d.items():\n",
    "    print(f'{color.capitalize()} corrosponds to {value}')"
   ]
  }
 ],
 "metadata": {
  "kernelspec": {
   "display_name": "Python 3 (ipykernel)",
   "language": "python",
   "name": "python3"
  },
  "language_info": {
   "codemirror_mode": {
    "name": "ipython",
    "version": 3
   },
   "file_extension": ".py",
   "mimetype": "text/x-python",
   "name": "python",
   "nbconvert_exporter": "python",
   "pygments_lexer": "ipython3",
   "version": "3.11.5"
  },
  "vscode": {
   "interpreter": {
    "hash": "cf877e899ade189e092f419ed6500768233ef45bf03c1569485e8f982cec4187"
   }
  }
 },
 "nbformat": 4,
 "nbformat_minor": 2
}
